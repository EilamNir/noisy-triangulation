{
 "cells": [
  {
   "attachments": {},
   "cell_type": "markdown",
   "metadata": {
    "pycharm": {
     "name": "#%% md\n"
    }
   },
   "source": [
    "# Show results of KF of non iterative estimator"
   ]
  },
  {
   "cell_type": "code",
   "execution_count": 17,
   "metadata": {
    "pycharm": {
     "name": "#%%\n"
    }
   },
   "outputs": [],
   "source": [
    "import numpy as np\n",
    "from simulation.generate_path import generate_path\n",
    "import matplotlib.pyplot as plt\n",
    "from mpl_toolkits.mplot3d import Axes3D\n",
    "from estimation.distance_sensor import distance_sensors\n",
    "from estimation.non_iterative_estimator import non_iterative_estimator\n",
    "from estimation.kalman_filter_from_points import kalman_filter_from_points\n",
    "# from estimation.kalman_filter_from_points_with_acc import kalman_filter_from_points_acc\n",
    "\n",
    "# For making the plots interactive, uncomment next line:\n",
    "# %matplotlib widget\n"
   ]
  },
  {
   "cell_type": "code",
   "execution_count": null,
   "metadata": {
    "pycharm": {
     "name": "#%%\n"
    }
   },
   "outputs": [],
   "source": [
    "# print the seed used\n",
    "seed = np.random.randint(0, 100000)\n",
    "print(seed)\n",
    "np.random.seed(seed)"
   ]
  },
  {
   "cell_type": "code",
   "execution_count": null,
   "metadata": {
    "pycharm": {
     "name": "#%%\n"
    }
   },
   "outputs": [],
   "source": [
    "# create the path\n",
    "\n",
    "target_initial_pos = np.array([0, 0, 5000])\n",
    "target_speed_xy = 50\n",
    "target_speed_z = 10\n",
    "target_rot_speed = 3\n",
    "time_res = 0.5\n",
    "sensor_sigma = 15\n",
    "\n",
    "path1 = generate_path(0, target_speed_xy, target_speed_z, target_initial_pos, time_res)\n",
    "path1.add_straight_interval(100)\n",
    "path1.add_xy_turn_interval(90, -np.deg2rad(target_rot_speed))\n",
    "path1.add_straight_interval(100)"
   ]
  },
  {
   "cell_type": "code",
   "execution_count": null,
   "metadata": {
    "pycharm": {
     "name": "#%%\n"
    }
   },
   "outputs": [],
   "source": [
    "# create noisy sensors\n",
    "sensors = distance_sensors([[-5000,0,0], [400, -7400, 0], [800, 800, 0], [8000, 1000, 1000]], sensor_sigma)\n",
    "sensors.calculate_measurements(path1.path)"
   ]
  },
  {
   "cell_type": "code",
   "execution_count": null,
   "metadata": {
    "pycharm": {
     "name": "#%%\n"
    }
   },
   "outputs": [],
   "source": [
    "# estimate the path\n",
    "non_it_est = non_iterative_estimator(sensors, path1.path[0,:])\n",
    "estimated_path = non_it_est.estimate_path()"
   ]
  },
  {
   "cell_type": "code",
   "execution_count": null,
   "metadata": {
    "pycharm": {
     "name": "#%%\n"
    }
   },
   "outputs": [],
   "source": [
    "# run KF on path\n",
    "sigma_a = 1\n",
    "sigma_v = 500\n",
    "kf = kalman_filter_from_points(time_res, sigma_a, sigma_v, non_diag_reduction_ratio=2)\n",
    "kf_acc = kalman_filter_from_points_acc(time_res, sigma_a, sigma_v, non_diag_reduction_ratio=2)\n",
    "kf_path = kf.filter_path(estimated_path)\n",
    "kf_path_acc = kf_acc.filter_path(estimated_path)"
   ]
  },
  {
   "cell_type": "code",
   "execution_count": null,
   "metadata": {
    "pycharm": {
     "name": "#%%\n"
    }
   },
   "outputs": [],
   "source": [
    "# Plot the path vs KF path\n",
    "\n",
    "fig = plt.figure(figsize = (15, 15))\n",
    "axes = []\n",
    "views = [(90, -90), (30, -100), (0, -90), (0, 0)]\n",
    "for i, view in enumerate(views):\n",
    "    ax = fig.add_subplot(2, 2, i+1, projection='3d')\n",
    "    ax.scatter(path1.path[:, 0], path1.path[:, 1], path1.path[:, 2], color='blue', s=0.5)\n",
    "    ax.scatter(estimated_path[:, 0], estimated_path[:, 1], estimated_path[:, 2], color='red', s=0.5)\n",
    "    ax.scatter(kf_path[:, 0], kf_path[:, 1], kf_path[:, 2], color='green', s=0.5)\n",
    "    ax.scatter(kf_path_acc[:, 0], kf_path_acc[:, 1], kf_path_acc[:, 2], color='k', s=0.5)\n",
    "    ax.view_init(elev=view[0], azim=view[1])\n",
    "    ax.set_xlabel('X')\n",
    "    ax.set_ylabel('Y')\n",
    "    ax.set_zlabel('Z')"
   ]
  },
  {
   "cell_type": "code",
   "execution_count": null,
   "metadata": {
    "pycharm": {
     "name": "#%%\n"
    }
   },
   "outputs": [],
   "source": [
    "# show error of KF vs no KF\n",
    "it_est_MSE = np.sqrt(np.sum(np.square(estimated_path-path1.path), 1))\n",
    "kf_MSE = np.sqrt(np.sum(np.square(kf_path-path1.path), 1))\n",
    "kf_acc_MSE = np.sqrt(np.sum(np.square(kf_path_acc-path1.path), 1))\n",
    "t = path1.time\n",
    "\n",
    "plt.figure()\n",
    "plt.plot(t, it_est_MSE, label=f'iterative estimator error', color='r')\n",
    "plt.plot(t, kf_MSE, label=f'KF error', color='g')\n",
    "plt.plot(t, kf_acc_MSE, label=f'KF with acceleration error', color='k')\n",
    "\n",
    "plt.xlabel('t[s]')\n",
    "plt.ylabel('error[m]')\n",
    "plt.grid()\n",
    "plt.legend()\n",
    "plt.show()"
   ]
  }
 ],
 "metadata": {
  "kernelspec": {
   "display_name": "ML_course",
   "language": "python",
   "name": "python3"
  },
  "language_info": {
   "codemirror_mode": {
    "name": "ipython",
    "version": 3
   },
   "file_extension": ".py",
   "mimetype": "text/x-python",
   "name": "python",
   "nbconvert_exporter": "python",
   "pygments_lexer": "ipython3",
   "version": "3.11.3"
  },
  "orig_nbformat": 4
 },
 "nbformat": 4,
 "nbformat_minor": 2
}